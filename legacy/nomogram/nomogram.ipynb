{
 "cells": [
  {
   "cell_type": "markdown",
   "id": "ffa67672",
   "metadata": {},
   "source": [
    "# Vizualizacija nomograma"
   ]
  },
  {
   "cell_type": "code",
   "execution_count": 1,
   "id": "4abb601c",
   "metadata": {},
   "outputs": [],
   "source": [
    "from matplotlib import pyplot as plt\n",
    "import pandas as pd\n",
    "import csv\n",
    "import random\n",
    "import math\n",
    "import ipywidgets as widgets\n",
    "from IPython.display import display\n",
    "from ipywidgets import FloatText\n",
    "from IPython.display import clear_output"
   ]
  },
  {
   "cell_type": "markdown",
   "id": "96ca66b9",
   "metadata": {},
   "source": [
    "## Generiramo v naprej določeno učno množico iz vaj\n",
    "* Tukaj generiramo učno množico, ki smo jo uporabljali na vajah in je prisotna kot primer za preverjanje ali algoritem deluje pravilno (kar seveda deluje) (upam da)."
   ]
  },
  {
   "cell_type": "code",
   "execution_count": 2,
   "id": "b4adca32",
   "metadata": {},
   "outputs": [],
   "source": [
    "def generate_preset():\n",
    "    data = [\n",
    "        [\"Rainy\", \"Hot\", \"High\", False, \"No\"],\n",
    "        [\"Rainy\", \"Hot\", \"High\", True, \"No\"],\n",
    "        [\"Overcast\", \"Hot\", \"High\", False, \"Yes\"],\n",
    "        [\"Sunny\", \"Mild\", \"High\", False, \"Yes\"],\n",
    "        [\"Sunny\", \"Cool\", \"Normal\", False, \"Yes\"],\n",
    "        [\"Sunny\", \"Cool\", \"Normal\", True, \"No\"],\n",
    "        [\"Overcast\", \"Cool\", \"Normal\", True, \"Yes\"],\n",
    "        [\"Rainy\", \"Mild\", \"High\", False, \"No\"],\n",
    "        [\"Rainy\", \"Cool\", \"Normal\", False, \"Yes\"],\n",
    "        [\"Sunny\", \"Mild\", \"Normal\", False, \"Yes\"],\n",
    "        [\"Rainy\", \"Mild\", \"Normal\", True, \"Yes\"],\n",
    "        [\"Overcast\", \"Mild\", \"High\", True, \"Yes\"],\n",
    "        [\"Overcast\", \"Hot\", \"Normal\", False, \"Yes\"],\n",
    "        [\"Sunny\", \"Mild\", \"High\", True, \"No\"],\n",
    "    ]\n",
    "\n",
    "    header = [\"Outlook\", \"Temperature\", \"Humidity\", \"Windy\", \"PlayGolf\"]\n",
    "\n",
    "    with open(\"data.csv\", mode=\"w\", newline=\"\") as file:\n",
    "        writer = csv.writer(file)\n",
    "        writer.writerow(header)\n",
    "        writer.writerows(data)\n",
    "\n",
    "    data = pd.read_csv(\"data.csv\", sep=\",\")\n",
    "\n",
    "    return data\n",
    "\n",
    "\n",
    "data = generate_preset()"
   ]
  },
  {
   "cell_type": "markdown",
   "id": "5b9df648",
   "metadata": {},
   "source": [
    "## Generiramo naključno učno množico\n",
    "* Funkcija za generacijo naključne učne množice, kjer kot argument **num_rows** podamo kako veliko učno množico želimo generirati."
   ]
  },
  {
   "cell_type": "code",
   "execution_count": 3,
   "id": "f9f5d2e3",
   "metadata": {},
   "outputs": [],
   "source": [
    "def generate_random_csv(num_rows=20):\n",
    "    header = [\"Outlook\", \"Temperature\", \"Humidity\", \"Windy\", \"PlayGolf\"]\n",
    "    rows = []\n",
    "    for _ in range(num_rows):\n",
    "        row_data = [\n",
    "            random.choice([\"Sunny\", \"Overcast\", \"Rainy\"]),  # Outlook\n",
    "            random.choice([\"Hot\", \"Cool\", \"Mild\"]),  # Temperature\n",
    "            random.choice([\"High\", \"Normal\"]),  # Humidity\n",
    "            random.choice([\"True\", \"False\"]),  # Windy\n",
    "            random.choice([\"Yes\", \"No\"]),  # PlayGolf\n",
    "        ]\n",
    "        rows.append(row_data)\n",
    "\n",
    "    return header, rows\n",
    "\n",
    "\n",
    "def write_csv_file(file_path, header, rows):\n",
    "    with open(file_path, mode=\"w\", newline=\"\") as file:\n",
    "        writer = csv.writer(file)\n",
    "        writer.writerow(header)\n",
    "        writer.writerows(rows)\n",
    "\n",
    "\n",
    "def generate_random(num_rows=20):\n",
    "    header, rows = generate_random_csv(num_rows)\n",
    "    write_csv_file(\"ucna_mnozica.csv\", header, rows)\n",
    "\n",
    "    ucna_mnozica = pd.read_csv(\"ucna_mnozica.csv\", sep=\",\")\n",
    "\n",
    "    return ucna_mnozica\n",
    "\n",
    "\n",
    "ucna_mnozica = generate_random()"
   ]
  },
  {
   "cell_type": "markdown",
   "id": "30db0495",
   "metadata": {},
   "source": [
    "## Tako izgleda naša naključno generirana množica"
   ]
  },
  {
   "cell_type": "code",
   "execution_count": 4,
   "id": "707d4fa4",
   "metadata": {},
   "outputs": [
    {
     "data": {
      "text/html": [
       "<div>\n",
       "<style scoped>\n",
       "    .dataframe tbody tr th:only-of-type {\n",
       "        vertical-align: middle;\n",
       "    }\n",
       "\n",
       "    .dataframe tbody tr th {\n",
       "        vertical-align: top;\n",
       "    }\n",
       "\n",
       "    .dataframe thead th {\n",
       "        text-align: right;\n",
       "    }\n",
       "</style>\n",
       "<table border=\"1\" class=\"dataframe\">\n",
       "  <thead>\n",
       "    <tr style=\"text-align: right;\">\n",
       "      <th></th>\n",
       "      <th>Outlook</th>\n",
       "      <th>Temperature</th>\n",
       "      <th>Humidity</th>\n",
       "      <th>Windy</th>\n",
       "      <th>PlayGolf</th>\n",
       "    </tr>\n",
       "  </thead>\n",
       "  <tbody>\n",
       "    <tr>\n",
       "      <th>0</th>\n",
       "      <td>Rainy</td>\n",
       "      <td>Cool</td>\n",
       "      <td>Normal</td>\n",
       "      <td>True</td>\n",
       "      <td>Yes</td>\n",
       "    </tr>\n",
       "    <tr>\n",
       "      <th>1</th>\n",
       "      <td>Rainy</td>\n",
       "      <td>Hot</td>\n",
       "      <td>Normal</td>\n",
       "      <td>True</td>\n",
       "      <td>No</td>\n",
       "    </tr>\n",
       "    <tr>\n",
       "      <th>2</th>\n",
       "      <td>Overcast</td>\n",
       "      <td>Hot</td>\n",
       "      <td>Normal</td>\n",
       "      <td>False</td>\n",
       "      <td>Yes</td>\n",
       "    </tr>\n",
       "    <tr>\n",
       "      <th>3</th>\n",
       "      <td>Rainy</td>\n",
       "      <td>Mild</td>\n",
       "      <td>Normal</td>\n",
       "      <td>True</td>\n",
       "      <td>Yes</td>\n",
       "    </tr>\n",
       "    <tr>\n",
       "      <th>4</th>\n",
       "      <td>Overcast</td>\n",
       "      <td>Mild</td>\n",
       "      <td>High</td>\n",
       "      <td>False</td>\n",
       "      <td>No</td>\n",
       "    </tr>\n",
       "    <tr>\n",
       "      <th>5</th>\n",
       "      <td>Sunny</td>\n",
       "      <td>Hot</td>\n",
       "      <td>High</td>\n",
       "      <td>False</td>\n",
       "      <td>No</td>\n",
       "    </tr>\n",
       "    <tr>\n",
       "      <th>6</th>\n",
       "      <td>Rainy</td>\n",
       "      <td>Hot</td>\n",
       "      <td>High</td>\n",
       "      <td>False</td>\n",
       "      <td>No</td>\n",
       "    </tr>\n",
       "    <tr>\n",
       "      <th>7</th>\n",
       "      <td>Sunny</td>\n",
       "      <td>Mild</td>\n",
       "      <td>High</td>\n",
       "      <td>True</td>\n",
       "      <td>Yes</td>\n",
       "    </tr>\n",
       "    <tr>\n",
       "      <th>8</th>\n",
       "      <td>Sunny</td>\n",
       "      <td>Cool</td>\n",
       "      <td>Normal</td>\n",
       "      <td>True</td>\n",
       "      <td>No</td>\n",
       "    </tr>\n",
       "    <tr>\n",
       "      <th>9</th>\n",
       "      <td>Overcast</td>\n",
       "      <td>Mild</td>\n",
       "      <td>Normal</td>\n",
       "      <td>False</td>\n",
       "      <td>No</td>\n",
       "    </tr>\n",
       "    <tr>\n",
       "      <th>10</th>\n",
       "      <td>Rainy</td>\n",
       "      <td>Cool</td>\n",
       "      <td>High</td>\n",
       "      <td>False</td>\n",
       "      <td>No</td>\n",
       "    </tr>\n",
       "    <tr>\n",
       "      <th>11</th>\n",
       "      <td>Sunny</td>\n",
       "      <td>Cool</td>\n",
       "      <td>High</td>\n",
       "      <td>False</td>\n",
       "      <td>No</td>\n",
       "    </tr>\n",
       "    <tr>\n",
       "      <th>12</th>\n",
       "      <td>Overcast</td>\n",
       "      <td>Cool</td>\n",
       "      <td>Normal</td>\n",
       "      <td>False</td>\n",
       "      <td>Yes</td>\n",
       "    </tr>\n",
       "    <tr>\n",
       "      <th>13</th>\n",
       "      <td>Sunny</td>\n",
       "      <td>Cool</td>\n",
       "      <td>Normal</td>\n",
       "      <td>True</td>\n",
       "      <td>No</td>\n",
       "    </tr>\n",
       "    <tr>\n",
       "      <th>14</th>\n",
       "      <td>Rainy</td>\n",
       "      <td>Mild</td>\n",
       "      <td>High</td>\n",
       "      <td>False</td>\n",
       "      <td>No</td>\n",
       "    </tr>\n",
       "    <tr>\n",
       "      <th>15</th>\n",
       "      <td>Rainy</td>\n",
       "      <td>Hot</td>\n",
       "      <td>High</td>\n",
       "      <td>True</td>\n",
       "      <td>No</td>\n",
       "    </tr>\n",
       "    <tr>\n",
       "      <th>16</th>\n",
       "      <td>Rainy</td>\n",
       "      <td>Hot</td>\n",
       "      <td>High</td>\n",
       "      <td>True</td>\n",
       "      <td>Yes</td>\n",
       "    </tr>\n",
       "    <tr>\n",
       "      <th>17</th>\n",
       "      <td>Rainy</td>\n",
       "      <td>Mild</td>\n",
       "      <td>Normal</td>\n",
       "      <td>True</td>\n",
       "      <td>Yes</td>\n",
       "    </tr>\n",
       "    <tr>\n",
       "      <th>18</th>\n",
       "      <td>Overcast</td>\n",
       "      <td>Mild</td>\n",
       "      <td>High</td>\n",
       "      <td>False</td>\n",
       "      <td>No</td>\n",
       "    </tr>\n",
       "    <tr>\n",
       "      <th>19</th>\n",
       "      <td>Overcast</td>\n",
       "      <td>Cool</td>\n",
       "      <td>Normal</td>\n",
       "      <td>True</td>\n",
       "      <td>No</td>\n",
       "    </tr>\n",
       "  </tbody>\n",
       "</table>\n",
       "</div>"
      ],
      "text/plain": [
       "     Outlook Temperature Humidity  Windy PlayGolf\n",
       "0      Rainy        Cool   Normal   True      Yes\n",
       "1      Rainy         Hot   Normal   True       No\n",
       "2   Overcast         Hot   Normal  False      Yes\n",
       "3      Rainy        Mild   Normal   True      Yes\n",
       "4   Overcast        Mild     High  False       No\n",
       "5      Sunny         Hot     High  False       No\n",
       "6      Rainy         Hot     High  False       No\n",
       "7      Sunny        Mild     High   True      Yes\n",
       "8      Sunny        Cool   Normal   True       No\n",
       "9   Overcast        Mild   Normal  False       No\n",
       "10     Rainy        Cool     High  False       No\n",
       "11     Sunny        Cool     High  False       No\n",
       "12  Overcast        Cool   Normal  False      Yes\n",
       "13     Sunny        Cool   Normal   True       No\n",
       "14     Rainy        Mild     High  False       No\n",
       "15     Rainy         Hot     High   True       No\n",
       "16     Rainy         Hot     High   True      Yes\n",
       "17     Rainy        Mild   Normal   True      Yes\n",
       "18  Overcast        Mild     High  False       No\n",
       "19  Overcast        Cool   Normal   True       No"
      ]
     },
     "execution_count": 4,
     "metadata": {},
     "output_type": "execute_result"
    }
   ],
   "source": [
    "ucna_mnozica"
   ]
  },
  {
   "cell_type": "markdown",
   "id": "441982a2",
   "metadata": {},
   "source": [
    "## Funkcija za ovrednotenje učne množice\n",
    "* Funkcija prešteje število posameznih vrednosti pri vseh spremeljivkah glede na rezultat ciljnega razreda.\n",
    "* Vrne tabelo z številskimi vrednostmi pri posameznih cilnih vrednostih.\n",
    "* Izgled vrnjene tabele je izpisan pod okvirjem s kodo."
   ]
  },
  {
   "cell_type": "code",
   "execution_count": 5,
   "id": "5b40b36e",
   "metadata": {},
   "outputs": [
    {
     "name": "stdout",
     "output_type": "stream",
     "text": [
      "    Outlook  PlayGolf_Yes  PlayGolf_No  Total\n",
      "0     Sunny             3            2      5\n",
      "1  Overcast             4            0      4\n",
      "2     Rainy             2            3      5\n",
      "\n",
      "  Temperature  PlayGolf_Yes  PlayGolf_No  Total\n",
      "0         Hot             2            2      4\n",
      "1        Mild             4            2      6\n",
      "2        Cool             3            1      4\n",
      "\n",
      "  Humidity  PlayGolf_Yes  PlayGolf_No  Total\n",
      "0   Normal             6            1      7\n",
      "1     High             3            4      7\n",
      "\n",
      "   Windy  PlayGolf_Yes  PlayGolf_No  Total\n",
      "0   True             3            3      6\n",
      "1  False             6            2      8\n",
      "\n"
     ]
    }
   ],
   "source": [
    "def calculate_df(ucna_mnozica):\n",
    "    dataframes = []\n",
    "\n",
    "    playGolf_yes = ucna_mnozica[ucna_mnozica[\"PlayGolf\"] == \"Yes\"]\n",
    "    playGolf_no = ucna_mnozica[ucna_mnozica[\"PlayGolf\"] == \"No\"]\n",
    "\n",
    "    # Outlook\n",
    "    outlook_df = pd.DataFrame(\n",
    "        {\n",
    "            \"Outlook\": [\"Sunny\", \"Overcast\", \"Rainy\"],\n",
    "            \"PlayGolf_Yes\": [\n",
    "                (playGolf_yes[\"Outlook\"] == \"Sunny\").sum(),\n",
    "                (playGolf_yes[\"Outlook\"] == \"Overcast\").sum(),\n",
    "                (playGolf_yes[\"Outlook\"] == \"Rainy\").sum(),\n",
    "            ],\n",
    "            \"PlayGolf_No\": [\n",
    "                (playGolf_no[\"Outlook\"] == \"Sunny\").sum(),\n",
    "                (playGolf_no[\"Outlook\"] == \"Overcast\").sum(),\n",
    "                (playGolf_no[\"Outlook\"] == \"Rainy\").sum(),\n",
    "            ],\n",
    "        }\n",
    "    )\n",
    "\n",
    "    outlook_df[\"Total\"] = outlook_df[\"PlayGolf_Yes\"] + outlook_df[\"PlayGolf_No\"]\n",
    "    dataframes.append((\"Outlook\", outlook_df))\n",
    "\n",
    "    # Temperature\n",
    "    temperature_df = pd.DataFrame(\n",
    "        {\n",
    "            \"Temperature\": [\"Hot\", \"Mild\", \"Cool\"],\n",
    "            \"PlayGolf_Yes\": [\n",
    "                (playGolf_yes[\"Temperature\"] == \"Hot\").sum(),\n",
    "                (playGolf_yes[\"Temperature\"] == \"Mild\").sum(),\n",
    "                (playGolf_yes[\"Temperature\"] == \"Cool\").sum(),\n",
    "            ],\n",
    "            \"PlayGolf_No\": [\n",
    "                (playGolf_no[\"Temperature\"] == \"Hot\").sum(),\n",
    "                (playGolf_no[\"Temperature\"] == \"Mild\").sum(),\n",
    "                (playGolf_no[\"Temperature\"] == \"Cool\").sum(),\n",
    "            ],\n",
    "        }\n",
    "    )\n",
    "\n",
    "    temperature_df[\"Total\"] = (\n",
    "        temperature_df[\"PlayGolf_Yes\"] + temperature_df[\"PlayGolf_No\"]\n",
    "    )\n",
    "    dataframes.append((\"Temperature\", temperature_df))\n",
    "\n",
    "    # Humidity\n",
    "    humidity_df = pd.DataFrame(\n",
    "        {\n",
    "            \"Humidity\": [\"Normal\", \"High\"],\n",
    "            \"PlayGolf_Yes\": [\n",
    "                (playGolf_yes[\"Humidity\"] == \"Normal\").sum(),\n",
    "                (playGolf_yes[\"Humidity\"] == \"High\").sum(),\n",
    "            ],\n",
    "            \"PlayGolf_No\": [\n",
    "                (playGolf_no[\"Humidity\"] == \"Normal\").sum(),\n",
    "                (playGolf_no[\"Humidity\"] == \"High\").sum(),\n",
    "            ],\n",
    "        }\n",
    "    )\n",
    "\n",
    "    humidity_df[\"Total\"] = humidity_df[\"PlayGolf_Yes\"] + humidity_df[\"PlayGolf_No\"]\n",
    "    dataframes.append((\"Humidity\", humidity_df))\n",
    "\n",
    "    # Windy\n",
    "    windy_df = pd.DataFrame(\n",
    "        {\n",
    "            \"Windy\": [\"True\", \"False\"],\n",
    "            \"PlayGolf_Yes\": [\n",
    "                (playGolf_yes[\"Windy\"] == True).sum(),\n",
    "                (playGolf_yes[\"Windy\"] == False).sum(),\n",
    "            ],\n",
    "            \"PlayGolf_No\": [\n",
    "                (playGolf_no[\"Windy\"] == True).sum(),\n",
    "                (playGolf_no[\"Windy\"] == False).sum(),\n",
    "            ],\n",
    "        }\n",
    "    )\n",
    "\n",
    "    windy_df[\"Total\"] = windy_df[\"PlayGolf_Yes\"] + windy_df[\"PlayGolf_No\"]\n",
    "    dataframes.append((\"Windy\", windy_df))\n",
    "\n",
    "    return dataframes, (len(playGolf_yes), len(playGolf_no))\n",
    "\n",
    "\n",
    "dataframes, aprior = calculate_df(data)\n",
    "for df in dataframes:\n",
    "    print(df[1])\n",
    "    print()"
   ]
  },
  {
   "cell_type": "markdown",
   "id": "7dc1ca35",
   "metadata": {},
   "source": [
    "## Funkcija za izračun nomograma\n",
    "* Funkcija izračuna vrednosti točk za posamezne spremenljivke v učni množici\n",
    "* skupno število točk za verjetnost celotnega primera:\n",
    "$$\n",
    "točke(C|X_1 X_2...X_n) = \\sum_{i} log OR(X_i) = \\sum_{i} log \\frac{P(X_i|C)}{P(X_i|{\\overline C})}\n",
    "$$\n",
    "* Vsi zgoraj navedeni logaritmi so **naravni**.\n",
    "* Kako izračunati izraz znotraj logaritma $OR(X_i)$? Po **Bayesovem pravilu** velja:\n",
    "$$\n",
    "\\frac{P(X_i|C)}{P(X_i|{\\overline C})} = \\frac{\\frac{P(C|X_i) \\cdot P(X_i)}{P(C)}}{\\frac{P({\\overline C}|X_i) \\cdot P(X_i)}{P({\\overline C})}} = \\frac{\\frac{P(C|X_i)}{P(C)}}{\\frac{P({\\overline C}|X_i)}{P({\\overline C})}} = \\frac{\\frac{P(C|X_i)}{P({\\overline C}|X_i)}}{\\frac{P(C)}{P({\\overline C})}}\n",
    "$$\n",
    "* Ko racunamo posamzne verjentosti $P(X_i|C)$ se lahko zgodi, da ni nobenega primera za te pogoje, kar nas lahko pripelje do **deljenja z 0**, zato se pri računanju uporabi **Laplacova ocena**."
   ]
  },
  {
   "cell_type": "code",
   "execution_count": 6,
   "id": "04b5b346",
   "metadata": {},
   "outputs": [
    {
     "name": "stdout",
     "output_type": "stream",
     "text": [
      "[[('Sunny', -0.22314355131420985), ('Overcast', 1.0986122886681098), ('Rainy', -0.7985076962177717)], [('Hot', -0.5108256237659907), ('Mild', 0.0), ('Cool', 0.1823215567939546)], [('Normal', 0.7419373447293773), ('High', -0.7339691750802004)], [('True', -0.5108256237659907), ('False', 0.336472236621213)]]\n"
     ]
    }
   ],
   "source": [
    "def calculate_points(df, yes=True):\n",
    "    variable, df = df\n",
    "    p_yes = df[\"PlayGolf_Yes\"].sum()\n",
    "    p_no = df[\"PlayGolf_No\"].sum()\n",
    "    return_values = []\n",
    "    for i in range(df.shape[0]):\n",
    "        if yes:\n",
    "            value = math.log(\n",
    "                ((df[\"PlayGolf_Yes\"][i] + 1) / (df[\"PlayGolf_No\"][i] + 1))\n",
    "                / ((p_yes + 1) / (p_no + 1))\n",
    "            )\n",
    "        else:\n",
    "            value = math.log(\n",
    "                ((df[\"PlayGolf_No\"][i] + 1) / (df[\"PlayGolf_Yes\"][i] + 1))\n",
    "                / ((p_no + 1) / (p_yes + 1))\n",
    "            )\n",
    "        return_values.append((df[variable][i], value))\n",
    "    return return_values\n",
    "\n",
    "\n",
    "calculated_points = []\n",
    "for df in dataframes:\n",
    "    calculated_points.append(calculate_points(df))\n",
    "\n",
    "print(calculated_points)"
   ]
  },
  {
   "cell_type": "markdown",
   "id": "417e2cff",
   "metadata": {},
   "source": [
    "## Nomogram\n",
    "* Nomogram je pristop za vizualizacijo naivnega Bayesovega modela.\n",
    "* Uporabniku omogoča grafično pridobiti rezultat brez računanja.\n",
    "* Iz nomograma lahko razberemo pomembnosti posameznih vrednosti vsakega atributa na ciljni razred\n",
    "* Izračunane točke so prikazane z pikami v razmerju s spodnjim merilom.\n",
    "* Na podlagi izračunanih točk lahko dobimo verejetnost za nek dogodek, ob podanih razmerah."
   ]
  },
  {
   "cell_type": "code",
   "execution_count": 7,
   "id": "6cdcc543",
   "metadata": {},
   "outputs": [
    {
     "data": {
      "image/png": "[encoded data removed]",
      "text/plain": [
       "<Figure size 640x480 with 1 Axes>"
      ]
     },
     "metadata": {},
     "output_type": "display_data"
    }
   ],
   "source": [
    "def plot_nomogram(points):\n",
    "    fig, ax = plt.subplots()\n",
    "    classes = [\"Outlook\", \"Temperature\", \"Humidity\", \"Windy\"]\n",
    "\n",
    "    for i, current in enumerate(points):\n",
    "        categories, values = zip(*current)\n",
    "        # Sort values and categories\n",
    "        sorted_indices = sorted(range(len(values)), key=lambda k: values[k])\n",
    "        sorted_values = [values[ix] for ix in sorted_indices]\n",
    "        sorted_categories = [categories[ix] for ix in sorted_indices]\n",
    "\n",
    "        ax.plot(sorted_values, [i] * len(current), marker=\"o\", label=classes[i])\n",
    "\n",
    "        for value, category in zip(sorted_values, sorted_categories):\n",
    "            if i == 0:\n",
    "                ax.text(value, i + 0.1, category, ha=\"center\", va=\"bottom\", fontsize=8)\n",
    "            else:\n",
    "                ax.text(value, i - 0.1, category, ha=\"center\", va=\"top\", fontsize=8)\n",
    "\n",
    "    ax.set_yticks(range(len(points)))\n",
    "    ax.set_yticklabels([class_curr for class_curr in classes])\n",
    "    ax.set_xlabel(\"Points\")\n",
    "    ax.legend()\n",
    "\n",
    "    ax.axvline(x=0, linestyle=\"--\", color=\"gray\", label=\"Vertical Line\")\n",
    "\n",
    "    plt.title(\"Nomogram\")\n",
    "    plt.show()\n",
    "\n",
    "\n",
    "plot_nomogram(calculated_points)"
   ]
  },
  {
   "cell_type": "code",
   "execution_count": 8,
   "id": "43480198",
   "metadata": {},
   "outputs": [],
   "source": [
    "def interactive_choice():\n",
    "    def run_code(change):\n",
    "        values = []\n",
    "        values.append(dropdown1.value)\n",
    "        values.append(dropdown2.value)\n",
    "        values.append(dropdown3.value)\n",
    "        values.append(dropdown4.value)\n",
    "\n",
    "        sum_val = 0\n",
    "        for value in values:\n",
    "            for row in points:\n",
    "                for pair in row:\n",
    "                    if pair[0] == value:\n",
    "                        sum_val += pair[1]\n",
    "        odds = math.exp(sum_val)\n",
    "        probability = odds / (1 + odds)\n",
    "\n",
    "        print(\n",
    "            \"Glede ne pretekle dogodke bi danes šel igrat golf z verjetnosjo:\",\n",
    "            probability,\n",
    "        )\n",
    "\n",
    "    choices_windy = [\"True\", \"False\"]\n",
    "    choices_humidity = [\"High\", \"Normal\"]\n",
    "    choices_temperature = [\"Hot\", \"Cool\", \"Mild\"]\n",
    "    choices_outlook = [\"Sunny\", \"Overcast\", \"Rainy\"]\n",
    "\n",
    "    print(\"Ali naj grem danes igrat golf?\")\n",
    "    print(\"* Iz menijev izberite današnje pogoje\")\n",
    "\n",
    "    dropdown1 = widgets.Dropdown(options=choices_outlook, description=\"Vreme:\")\n",
    "    dropdown2 = widgets.Dropdown(\n",
    "        options=choices_temperature, description=\"Temperatura:\"\n",
    "    )\n",
    "    dropdown3 = widgets.Dropdown(options=choices_humidity, description=\"Vlažnost:\")\n",
    "    dropdown4 = widgets.Dropdown(options=choices_windy, description=\"Veter:\")\n",
    "\n",
    "    run_button = widgets.Button(description=\"Izvedite\")\n",
    "\n",
    "    run_button.on_click(run_code)\n",
    "\n",
    "    display(dropdown1, dropdown2, dropdown3, dropdown4, run_button)"
   ]
  },
  {
   "cell_type": "code",
   "execution_count": 9,
   "id": "8b8db79b",
   "metadata": {},
   "outputs": [],
   "source": [
    "def full_function(num_rows=20):\n",
    "    ucna_mnozica = generate_random(num_rows)\n",
    "    dataframes, aprior = calculate_df(ucna_mnozica)\n",
    "    print(aprior)\n",
    "    calculated_points = []\n",
    "    for df in dataframes:\n",
    "        calculated_points.append(calculate_points(df))\n",
    "    plot_nomogram(calculated_points)\n",
    "\n",
    "    return calculated_points, aprior"
   ]
  },
  {
   "cell_type": "code",
   "execution_count": null,
   "id": "30b5d47d",
   "metadata": {},
   "outputs": [
    {
     "name": "stdout",
     "output_type": "stream",
     "text": [
      "(2, 5)\n"
     ]
    },
    {
     "data": {
      "image/png": "[encoded data removed]",
      "text/plain": [
       "<Figure size 640x480 with 1 Axes>"
      ]
     },
     "metadata": {},
     "output_type": "display_data"
    },
    {
     "data": {
      "application/vnd.jupyter.widget-view+json": {
       "model_id": "564d4d34ee3d43cb94a54fe64223f4e5",
       "version_major": 2,
       "version_minor": 0
      },
      "text/plain": [
       "Button(description='Reset', style=ButtonStyle())"
      ]
     },
     "metadata": {},
     "output_type": "display_data"
    }
   ],
   "source": [
    "points = None\n",
    "aprior = None\n",
    "\n",
    "number_input = FloatText(description=\"Vnesite:\")\n",
    "run_button2 = widgets.Button(description=\"Generiraj\")\n",
    "reset_button = widgets.Button(description=\"Reset\")\n",
    "\n",
    "\n",
    "def reset_widgets(number_input, run_button2):\n",
    "    clear_output()\n",
    "    display(number_input, run_button2)\n",
    "\n",
    "\n",
    "def run_code1(change):\n",
    "    global points\n",
    "    global aprior\n",
    "    print(\"run code 1\")\n",
    "    clear_output()\n",
    "    points, aprior = full_function(int(number_input.value))\n",
    "    display(reset_button)\n",
    "\n",
    "\n",
    "def reset_widgets_wrapper(change):\n",
    "    reset_widgets(number_input, run_button2)\n",
    "\n",
    "\n",
    "def interactive_window():\n",
    "    print(\"Vnesite število, da določite velikost učne množice:\")\n",
    "    print(\"1\")\n",
    "    run_button2.on_click(run_code1)\n",
    "    print(\"2\")\n",
    "    reset_button.on_click(reset_widgets_wrapper)\n",
    "    print(\"3\")\n",
    "    display(number_input, run_button2)\n",
    "    print(\"4\")"
   ]
  },
  {
   "cell_type": "markdown",
   "id": "af6ea858",
   "metadata": {},
   "source": [
    "# Interaktivni del programa\n",
    "* V spodnji okvir vnesemo število s katerim določimo velikost generirane učne množice\n",
    "* Ob kliku na gumb **Generiraj** se zgenerira učna množica in izračunajo vse vrednosti ter izriše **nomogram**.\n",
    "* S klikom na gumb **reset** lahko ponastavimo učno množico.\n",
    "* V spodnjem izbirnem oknu določimo trenutne pogoje, nakar algoritem na podlagi teh izračuna verjetnost igranja golfa."
   ]
  },
  {
   "cell_type": "code",
   "execution_count": 11,
   "id": "3568420f-48c9-473a-9458-b1b0f5b9d33b",
   "metadata": {},
   "outputs": [
    {
     "name": "stdout",
     "output_type": "stream",
     "text": [
      "Vnesite število, da določite velikost učne množice:\n",
      "1\n",
      "2\n",
      "3\n"
     ]
    },
    {
     "data": {
      "application/vnd.jupyter.widget-view+json": {
       "model_id": "c3e07c68a4fc45518bc2c8f2ff2de2c3",
       "version_major": 2,
       "version_minor": 0
      },
      "text/plain": [
       "FloatText(value=0.0, description='Vnesite:')"
      ]
     },
     "metadata": {},
     "output_type": "display_data"
    },
    {
     "data": {
      "application/vnd.jupyter.widget-view+json": {
       "model_id": "d6001a1a4c104576b42cc0dc1348de8f",
       "version_major": 2,
       "version_minor": 0
      },
      "text/plain": [
       "Button(description='Generiraj', style=ButtonStyle())"
      ]
     },
     "metadata": {},
     "output_type": "display_data"
    },
    {
     "name": "stdout",
     "output_type": "stream",
     "text": [
      "4\n"
     ]
    }
   ],
   "source": [
    "interactive_window()"
   ]
  },
  {
   "cell_type": "code",
   "execution_count": 12,
   "id": "21dfa396",
   "metadata": {},
   "outputs": [
    {
     "name": "stdout",
     "output_type": "stream",
     "text": [
      "Ali naj grem danes igrat golf?\n",
      "* Iz menijev izberite današnje pogoje\n"
     ]
    },
    {
     "data": {
      "application/vnd.jupyter.widget-view+json": {
       "model_id": "9d2984f40116454fb1c48737932b0e4f",
       "version_major": 2,
       "version_minor": 0
      },
      "text/plain": [
       "Dropdown(description='Vreme:', options=('Sunny', 'Overcast', 'Rainy'), value='Sunny')"
      ]
     },
     "metadata": {},
     "output_type": "display_data"
    },
    {
     "data": {
      "application/vnd.jupyter.widget-view+json": {
       "model_id": "41817abfcf9e431db640053fbd1342e1",
       "version_major": 2,
       "version_minor": 0
      },
      "text/plain": [
       "Dropdown(description='Temperatura:', options=('Hot', 'Cool', 'Mild'), value='Hot')"
      ]
     },
     "metadata": {},
     "output_type": "display_data"
    },
    {
     "data": {
      "application/vnd.jupyter.widget-view+json": {
       "model_id": "adb22e7ed17243459a7063c810038332",
       "version_major": 2,
       "version_minor": 0
      },
      "text/plain": [
       "Dropdown(description='Vlažnost:', options=('High', 'Normal'), value='High')"
      ]
     },
     "metadata": {},
     "output_type": "display_data"
    },
    {
     "data": {
      "application/vnd.jupyter.widget-view+json": {
       "model_id": "1e33a0a36e1b4e92983f5ddbc3405ce7",
       "version_major": 2,
       "version_minor": 0
      },
      "text/plain": [
       "Dropdown(description='Veter:', options=('True', 'False'), value='True')"
      ]
     },
     "metadata": {},
     "output_type": "display_data"
    },
    {
     "data": {
      "application/vnd.jupyter.widget-view+json": {
       "model_id": "5b95569b37dc445da5013aa0da1bc588",
       "version_major": 2,
       "version_minor": 0
      },
      "text/plain": [
       "Button(description='Izvedite', style=ButtonStyle())"
      ]
     },
     "metadata": {},
     "output_type": "display_data"
    },
    {
     "name": "stdout",
     "output_type": "stream",
     "text": [
      "Glede ne pretekle dogodke bi danes šel igrat golf z verjetnosjo: 0.6808510638297872\n",
      "Glede ne pretekle dogodke bi danes šel igrat golf z verjetnosjo: 0.5161290322580646\n",
      "Glede ne pretekle dogodke bi danes šel igrat golf z verjetnosjo: 0.41558441558441556\n"
     ]
    }
   ],
   "source": [
    "interactive_choice()"
   ]
  },
  {
   "cell_type": "code",
   "execution_count": null,
   "id": "38d276f8-263c-4725-8178-1fdde17d42c7",
   "metadata": {},
   "outputs": [],
   "source": []
  }
 ],
 "metadata": {
  "kernelspec": {
   "display_name": "Python 3 (ipykernel)",
   "language": "python",
   "name": "python3"
  },
  "language_info": {
   "codemirror_mode": {
    "name": "ipython",
    "version": 3
   },
   "file_extension": ".py",
   "mimetype": "text/x-python",
   "name": "python",
   "nbconvert_exporter": "python",
   "pygments_lexer": "ipython3",
   "version": "3.10.14"
  }
 },
 "nbformat": 4,
 "nbformat_minor": 5
}
